{
 "cells": [
  {
   "cell_type": "code",
   "execution_count": 1,
   "metadata": {},
   "outputs": [],
   "source": [
    "import json\n",
    "import gradio as gr"
   ]
  },
  {
   "cell_type": "code",
   "execution_count": 3,
   "metadata": {},
   "outputs": [],
   "source": [
    "with open(\"img_id_to_info.json\", \"r\") as f:\n",
    "\n",
    "    img_id_to_info = json.load(f)\n",
    "# {'coco_url': 'http://images.cocodataset.org/train2017/000000391895.jpg',\n",
    "#  'is_train': True,\n",
    "#  'caps': ['A man with a red helmet on a small moped on a dirt road. ',\n",
    "#   'Man riding a motor bike on a dirt road on the countryside.',\n",
    "#   'A man riding on the back of a motorcycle.',\n",
    "#   'A dirt path with a young person on a motor bike rests to the foreground of a verdant area with a bridge and a background of cloud-wreathed mountains. ',\n",
    "#   'A man in a red shirt and a red hat is on a motorcycle on a hill side.']}"
   ]
  },
  {
   "cell_type": "code",
   "execution_count": 11,
   "metadata": {},
   "outputs": [],
   "source": [
    "def output_id_info(img_id):\n",
    "    if img_id is int:\n",
    "        img_id = str(img_id)\n",
    "    if img_id not in img_id_to_info.keys():\n",
    "        print(\"wrong\")\n",
    "        return\n",
    "    this_info = img_id_to_info[img_id]\n",
    "    img_url = this_info['coco_url']\n",
    "    is_train = this_info['is_train']\n",
    "    caps = this_info['caps']\n",
    "    cap_all_in_one = \"\\n\".join(caps)\n",
    "    return img_url, str(is_train), cap_all_in_one"
   ]
  },
  {
   "cell_type": "code",
   "execution_count": 13,
   "metadata": {},
   "outputs": [],
   "source": [
    "demo = gr.Interface(\n",
    "    fn=output_id_info,\n",
    "    inputs=\"text\",\n",
    "    outputs=[\"image\", \"text\", \"text\"]\n",
    ")"
   ]
  },
  {
   "cell_type": "code",
   "execution_count": 14,
   "metadata": {},
   "outputs": [
    {
     "name": "stdout",
     "output_type": "stream",
     "text": [
      "Running on local URL:  http://127.0.0.1:7860\n",
      "\n",
      "To create a public link, set `share=True` in `launch()`.\n"
     ]
    },
    {
     "data": {
      "text/html": [
       "<div><iframe src=\"http://127.0.0.1:7860/\" width=\"100%\" height=\"500\" allow=\"autoplay; camera; microphone; clipboard-read; clipboard-write;\" frameborder=\"0\" allowfullscreen></iframe></div>"
      ],
      "text/plain": [
       "<IPython.core.display.HTML object>"
      ]
     },
     "metadata": {},
     "output_type": "display_data"
    },
    {
     "data": {
      "text/plain": []
     },
     "execution_count": 14,
     "metadata": {},
     "output_type": "execute_result"
    }
   ],
   "source": [
    "demo.launch()"
   ]
  },
  {
   "cell_type": "code",
   "execution_count": null,
   "metadata": {},
   "outputs": [],
   "source": []
  }
 ],
 "metadata": {
  "kernelspec": {
   "display_name": "GPML",
   "language": "python",
   "name": "python3"
  },
  "language_info": {
   "codemirror_mode": {
    "name": "ipython",
    "version": 3
   },
   "file_extension": ".py",
   "mimetype": "text/x-python",
   "name": "python",
   "nbconvert_exporter": "python",
   "pygments_lexer": "ipython3",
   "version": "3.10.8"
  },
  "orig_nbformat": 4,
  "vscode": {
   "interpreter": {
    "hash": "75567ad983eac98a78c1e40a895e8d82557b42cf9969286235abec07ddbf9e7d"
   }
  }
 },
 "nbformat": 4,
 "nbformat_minor": 2
}
